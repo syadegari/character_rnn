{
 "cells": [
  {
   "cell_type": "code",
   "execution_count": 8,
   "metadata": {},
   "outputs": [],
   "source": [
    "import sys, os, platform, inspect\n",
    "\n",
    "def get_current_file_path():\n",
    "    # script filename (usually with path)\n",
    "    filename = inspect.getfile(inspect.currentframe())\n",
    "    # script directory\n",
    "    path = os.path.dirname(os.path.abspath(inspect.getfile(inspect.currentframe())))\n",
    "    return filename, path\n",
    "\n",
    "\n",
    "if platform.system() == 'Linux': # Colab setting\n",
    "    print('Linux')\n",
    "    from google.colab import drive\n",
    "    drive.mount('/content/gdrive')\n",
    "    path = '/content/gdrive/My Drive/Colab Notebooks/char-rnn'\n",
    "else:\n",
    "    _, path = get_current_file_path()    \n",
    "\n",
    "sys.path.insert(0, path)\n",
    "os.chdir(path)"
   ]
  },
  {
   "cell_type": "code",
   "execution_count": 16,
   "metadata": {},
   "outputs": [],
   "source": [
    "import utils\n",
    "import rnn_char\n",
    "import loaders\n",
    "importlib.reload(utils)\n",
    "importlib.reload(rnn_char)\n",
    "importlib.reload(loaders)\n",
    "\n",
    "\n",
    "from loaders import DataSet, DataLoader\n",
    "import numpy as np\n",
    "import importlib\n",
    "\n",
    "from rnn_char import CharRNNv1, CharRNNv2, CharRNNv3, CharRNNv4\n",
    "from utils import Train"
   ]
  },
  {
   "cell_type": "code",
   "execution_count": 17,
   "metadata": {},
   "outputs": [],
   "source": [
    "with open('data/anna.txt', 'r') as f:\n",
    "    text = f.read()\n",
    "\n",
    "nBatch = 32\n",
    "nSeq = 100\n",
    "frac = 0.2\n",
    "nHidden = 512"
   ]
  },
  {
   "cell_type": "code",
   "execution_count": 18,
   "metadata": {},
   "outputs": [],
   "source": [
    "dSet = DataSet(text, nBatch, nSeq, frac)\n",
    "train_loader = DataLoader(dSet('train'), dSet.nBatchSize, dSet.nSeqLength, dSet.nLabel, mode='many-1')\n",
    "test_loader = DataLoader(dSet('test'), dSet.nBatchSize, dSet.nSeqLength, dSet.nLabel, mode='many-1')"
   ]
  },
  {
   "cell_type": "code",
   "execution_count": null,
   "metadata": {},
   "outputs": [],
   "source": [
    "rnnv1 = CharRNNv1(dSet.nLabel, nHidden, dSet.nLabel, dSet.encoder, nLayer=2, dropout=0.2)\n",
    "train = Train(rnnv1, print_every=100, epochs=5)\n",
    "hist_train, hist_test = train(train_loader, test_loader)"
   ]
  },
  {
   "cell_type": "code",
   "execution_count": null,
   "metadata": {},
   "outputs": [],
   "source": [
    "rnnv2 = CharRNNv2(dSet.nLabel, nHidden, dSet.nLabel, dSet.encoder, nLayer=2, dropout=0.2)\n",
    "train = Train(rnnv2, print_every=100, epochs=5)\n",
    "hist_train, hist_test = train(train_loader, test_loader)\n"
   ]
  },
  {
   "cell_type": "code",
   "execution_count": null,
   "metadata": {},
   "outputs": [],
   "source": [
    "\n",
    "rnnv3 = CharRNNv3(nSeq, dSet.nLabel, nHidden, dSet.nLabel, dSet.encoder, nLayer=2, dropout=0.2)\n",
    "train = Train(rnnv3, print_every=100, epochs=5)\n",
    "hist_train, hist_test = train(train_loader, test_loader)\n"
   ]
  },
  {
   "cell_type": "code",
   "execution_count": null,
   "metadata": {},
   "outputs": [],
   "source": [
    "train_loader = DataLoader(dSet('train'), dSet.nBatchSize, dSet.nSeqLength, dSet.nLabel, mode='many-many')\n",
    "test_loader = DataLoader(dSet('test'), dSet.nBatchSize, dSet.nSeqLength, dSet.nLabel, mode='many-many')\n",
    "\n",
    "rnnv4 = CharRNNv4(dSet.nLabel, nHidden, dSet.nLabel, dSet.encoder, nLayer=2, dropout=0.2)\n",
    "train = Train(rnnv4, print_every=100, epochs=5)\n",
    "hist_train, hist_test = train(train_loader, test_loader)"
   ]
  },
  {
   "cell_type": "code",
   "execution_count": 24,
   "metadata": {},
   "outputs": [
    {
     "ename": "SyntaxError",
     "evalue": "invalid syntax (<ipython-input-24-ef5263fab040>, line 1)",
     "output_type": "error",
     "traceback": [
      "\u001b[0;36m  File \u001b[0;32m\"<ipython-input-24-ef5263fab040>\"\u001b[0;36m, line \u001b[0;32m1\u001b[0m\n\u001b[0;31m    prime = '.join([dSet.decoder[i] for i in dSet('test')[400:500]])\u001b[0m\n\u001b[0m                                                      ^\u001b[0m\n\u001b[0;31mSyntaxError\u001b[0m\u001b[0;31m:\u001b[0m invalid syntax\n"
     ]
    }
   ],
   "source": [
    "prime = '.join([dSet.decoder[i] for i in dSet('test')[400:500]])\n",
    "\n",
    "rnnv1.sample(400, prime=prime, top_k=5)\n",
    "rnnv2.sample(400, prime=prime, top_k=5)\n",
    "rnnv3.sample(400, prime=prime, top_k=5)\n",
    "rnnv4.sample(400, prime=prime, top_k=5)\n"
   ]
  }
 ],
 "metadata": {
  "kernelspec": {
   "display_name": "Python 3",
   "language": "python",
   "name": "python3"
  },
  "language_info": {
   "codemirror_mode": {
    "name": "ipython",
    "version": 3
   },
   "file_extension": ".py",
   "mimetype": "text/x-python",
   "name": "python",
   "nbconvert_exporter": "python",
   "pygments_lexer": "ipython3",
   "version": "3.6.3"
  },
  "varInspector": {
   "cols": {
    "lenName": 16,
    "lenType": 16,
    "lenVar": 40
   },
   "kernels_config": {
    "python": {
     "delete_cmd_postfix": "",
     "delete_cmd_prefix": "del ",
     "library": "var_list.py",
     "varRefreshCmd": "print(var_dic_list())"
    },
    "r": {
     "delete_cmd_postfix": ") ",
     "delete_cmd_prefix": "rm(",
     "library": "var_list.r",
     "varRefreshCmd": "cat(var_dic_list()) "
    }
   },
   "types_to_exclude": [
    "module",
    "function",
    "builtin_function_or_method",
    "instance",
    "_Feature"
   ],
   "window_display": false
  }
 },
 "nbformat": 4,
 "nbformat_minor": 2
}
